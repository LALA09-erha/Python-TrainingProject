def stack():
    s=[]
    return (s)
def push(s,data):
    s.append(data)
def pop(s):
    data=s.pop()
    return(data)
def peek(s):
    return(s[len(s)-1])
def isEmpty(s):
    return (s==[])
def size(s):
    return(len(s))

s = stack()
push(s,5)
push(s,8)
push(s,peek(s))
pop(s)
print(s)
# def konversi(bil):
#     angka = bil
#     temp = stack()
#     hasil = ""
#     while angka >0:
#         # bil %= 2
#         push(temp,angka%2)
#         angka //=2
#         # bil =int(angka)
#     for i in range(size(temp)):
#         hasil += str(pop(temp))
#     return(hasil)

# bil = int(input("MASUKKAN ANGKA: "))
# print("hasil konversi: ", konversi(bil))