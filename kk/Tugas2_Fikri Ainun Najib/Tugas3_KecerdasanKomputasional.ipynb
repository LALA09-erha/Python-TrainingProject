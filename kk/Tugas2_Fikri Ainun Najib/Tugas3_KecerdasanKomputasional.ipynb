{
  "nbformat": 4,
  "nbformat_minor": 0,
  "metadata": {
    "colab": {
      "provenance": [],
      "collapsed_sections": [],
      "toc_visible": true
    },
    "kernelspec": {
      "name": "python3",
      "display_name": "Python 3"
    },
    "language_info": {
      "name": "python"
    }
  },
  "cells": [
    {
      "cell_type": "markdown",
      "source": [
        "# **Tugas 3**"
      ],
      "metadata": {
        "id": "fvMqwGjTkuSP"
      }
    },
    {
      "cell_type": "markdown",
      "source": [
        "## Algoritma Genetika"
      ],
      "metadata": {
        "id": "BClTFfj6kyML"
      }
    },
    {
      "cell_type": "markdown",
      "source": [
        "Penggunaan algoritma genetika untuk permasalahan Travelling Salesman Problem (TSP)"
      ],
      "metadata": {
        "id": "pHzF5lBGk3y8"
      }
    },
    {
      "cell_type": "markdown",
      "source": [
        "### Import Modul"
      ],
      "metadata": {
        "id": "JoIHj1d-k_Ff"
      }
    },
    {
      "cell_type": "code",
      "execution_count": null,
      "metadata": {
        "id": "-UXMy-AokRXL"
      },
      "outputs": [],
      "source": [
        "import numpy as np\n",
        "import matplotlib.pyplot as plt"
      ]
    },
    {
      "cell_type": "markdown",
      "source": [
        "### Pembuatan function untuk generate koordinat kota, jumlah populasi dan individu"
      ],
      "metadata": {
        "id": "hrVlZyxJlPBQ"
      }
    },
    {
      "cell_type": "code",
      "source": [
        "def generateCoordCity(numOfCity):\n",
        "    temp = np.zeros((numOfCity, 2)) + 1000\n",
        "    count = 0\n",
        "    while count < numOfCity:\n",
        "        x = np.random.randint(50)\n",
        "        y = np.random.randint(50)\n",
        "        if [x, y] not in temp:\n",
        "            temp[count, :] = [x, y]\n",
        "            count += 1\n",
        "    return temp"
      ],
      "metadata": {
        "id": "MnuUxW0BlRwJ"
      },
      "execution_count": null,
      "outputs": []
    },
    {
      "cell_type": "code",
      "source": [
        "def generateIndividu(numOfCity):\n",
        "    ind = np.zeros(numOfCity, dtype=int) + 1000\n",
        "    count = 0\n",
        "    while count < numOfCity:\n",
        "        temp = np.random.randint(numOfCity)\n",
        "        if temp not in ind:\n",
        "            ind[count] = temp\n",
        "            count += 1\n",
        "    return ind"
      ],
      "metadata": {
        "id": "zSOpx00LlW5P"
      },
      "execution_count": null,
      "outputs": []
    },
    {
      "cell_type": "code",
      "source": [
        "def generatePopulation(numOfPopulation, numOfCity):\n",
        "  population = []\n",
        "  for i in range(numOfPopulation):\n",
        "      population.append(generateIndividu(numOfCity))\n",
        "  \n",
        "  return np.array(population), generateCoordCity(numOfCity);"
      ],
      "metadata": {
        "id": "1i-57u2clZ5I"
      },
      "execution_count": null,
      "outputs": []
    },
    {
      "cell_type": "markdown",
      "source": [
        "### Testing function generatePopulation"
      ],
      "metadata": {
        "id": "EmZitMy6le9m"
      }
    },
    {
      "cell_type": "code",
      "source": [
        "(population, location) = generatePopulation(6, 8)\n",
        "print(\"populasi=\\n\", population)\n",
        "print(\"koordinat kota=\\n\", location)"
      ],
      "metadata": {
        "colab": {
          "base_uri": "https://localhost:8080/"
        },
        "id": "pSYFd1j_lgtC",
        "outputId": "d2e34925-812e-48a9-afb2-725ea7b57330"
      },
      "execution_count": null,
      "outputs": [
        {
          "output_type": "stream",
          "name": "stdout",
          "text": [
            "populasi=\n",
            " [[5 6 3 0 1 7 4 2]\n",
            " [5 2 0 3 7 1 4 6]\n",
            " [2 6 0 7 3 4 5 1]\n",
            " [2 3 7 0 5 6 4 1]\n",
            " [6 2 7 3 4 5 1 0]\n",
            " [5 0 2 7 3 6 4 1]]\n",
            "koordinat kota=\n",
            " [[41. 48.]\n",
            " [24.  6.]\n",
            " [48.  0.]\n",
            " [33. 44.]\n",
            " [21. 22.]\n",
            " [13. 45.]\n",
            " [31. 39.]\n",
            " [16. 28.]]\n"
          ]
        }
      ]
    },
    {
      "cell_type": "markdown",
      "source": [
        "### Function Seleksi"
      ],
      "metadata": {
        "id": "gBF60Seilmkl"
      }
    },
    {
      "cell_type": "code",
      "source": [
        "def selection(fitness):\n",
        "    # hitung probabilitas masing-masing individu\n",
        "    totalFitness = np.sum(fitness)\n",
        "    probIndividu = fitness / totalFitness\n",
        "    numOfIndividu = fitness.shape[0]\n",
        "    # hitung komulatif untuk ruang pada roulette wheel\n",
        "    komulatif = np.zeros(numOfIndividu + 1)\n",
        "    newP = np.zeros(numOfIndividu, dtype=int)\n",
        "    # hitung ruang pada roulette wheel\n",
        "    for i in range(numOfIndividu):\n",
        "        komulatif[i+1] = komulatif[i] + probIndividu[i]\n",
        "\n",
        "\n",
        "    count = 0\n",
        "    for j in range(numOfIndividu):\n",
        "        roulette = np.random.rand(1)\n",
        "        for i in range(numOfIndividu + 1):\n",
        "            if roulette > komulatif[i] and roulette <= komulatif[i + 1]:\n",
        "                newP[count] = i\n",
        "                count += 1\n",
        "    \n",
        "    # membuat roulette wheel dengan matplotlib\n",
        "    fig, ax = plt.subplots()\n",
        "    ax.pie(\n",
        "        probIndividu, \n",
        "        labels=np.arange(0, numOfIndividu),\n",
        "        autopct=lambda pct: \"{:.1f}%\".format(pct)\n",
        "    )\n",
        "    fig.show()\n",
        "\n",
        "    # kembalikan nilai kromosom yang terpilih\n",
        "    return newP"
      ],
      "metadata": {
        "id": "Zv8FTiifloLV"
      },
      "execution_count": null,
      "outputs": []
    },
    {
      "cell_type": "code",
      "source": [
        "def newP(ind, population):\n",
        "    newPopulation = np.zeros_like(population)\n",
        "    numOfIndividu = ind.shape[0]\n",
        "    for i in range(numOfIndividu):\n",
        "        newPopulation[i,:] = population[ind[i], :]\n",
        "    return newPopulation"
      ],
      "metadata": {
        "id": "gBkaarDnltou"
      },
      "execution_count": null,
      "outputs": []
    },
    {
      "cell_type": "markdown",
      "source": [
        "### Function untuk menghitung fitness"
      ],
      "metadata": {
        "id": "gvcrt0V1lx8-"
      }
    },
    {
      "cell_type": "code",
      "source": [
        "def calculateFitness(population, coordinat):\n",
        "    # hitung probabiitas masing-masing kromosom\n",
        "    (numOfIndividu, numOfCity) = population.shape\n",
        "    fitness = np.zeros(numOfIndividu)\n",
        "    for j in range(numOfIndividu):\n",
        "        temp = 0.0\n",
        "        for i in range(numOfCity - 1):\n",
        "            temp += np.sum(np.square(coordinat[population[j,i]] - coordinat[population[j, i + 1]] ))\n",
        "        fitness[j] = 1/np.sqrt(temp)\n",
        "    return fitness"
      ],
      "metadata": {
        "id": "juLX9Yw6lzp1"
      },
      "execution_count": null,
      "outputs": []
    },
    {
      "cell_type": "markdown",
      "source": [
        "### Function Crossover"
      ],
      "metadata": {
        "id": "Vcl9j4Jrl5Fh"
      }
    },
    {
      "cell_type": "code",
      "source": [
        "def reverse(population):\n",
        "    newPopulation = population.copy()\n",
        "    (numOfIndividu, numOfCity) = population.shape\n",
        "    for j in range(numOfIndividu):\n",
        "        ind1 = np.random.randint(numOfCity)\n",
        "        ind2 = np.random.randint(numOfCity)\n",
        "        if ind1 <= ind2:\n",
        "            temp = ind2\n",
        "            for i in range(ind1, ind2 + 1):\n",
        "                newPopulation[j, i] = population[j, temp]\n",
        "                temp -= 1\n",
        "        else:\n",
        "            temp = ind1\n",
        "            for i in range(ind2, ind1 + 1):\n",
        "                newPopulation[j, i] = population[j, temp]\n",
        "                temp -= 1\n",
        "    \n",
        "    return newPopulation"
      ],
      "metadata": {
        "id": "CMT_hh4il6j2"
      },
      "execution_count": null,
      "outputs": []
    },
    {
      "cell_type": "markdown",
      "source": [
        "### Function Mutasi"
      ],
      "metadata": {
        "id": "d1klheIgl9jh"
      }
    },
    {
      "cell_type": "code",
      "source": [
        "def mutation(population):\n",
        "    newPopulation = population.copy()\n",
        "    (numOfIndividu, numOfCity) = population.shape\n",
        "    for i in range(numOfIndividu):\n",
        "        ind1 = np.random.randint(numOfCity)\n",
        "        ind2 = np.random.randint(numOfCity)\n",
        "        newPopulation[i, ind1] , newPopulation[i, ind2] = newPopulation[i, ind2], newPopulation[i, ind1]\n",
        "    return newPopulation"
      ],
      "metadata": {
        "id": "jp2jm6BSmBOI"
      },
      "execution_count": null,
      "outputs": []
    },
    {
      "cell_type": "markdown",
      "source": [
        "### Visualisasi Algoritma Genetika"
      ],
      "metadata": {
        "id": "7SUsNbkwmEdJ"
      }
    },
    {
      "cell_type": "code",
      "source": [
        "def create_plot(population, location):\n",
        "    row = population.shape[0]\n",
        "    col = population.shape[1]\n",
        "    fig, axs = plt.subplots(1, row, constrained_layout=True, figsize=(16, 4))\n",
        "    for i in range(row):\n",
        "        ind = population[i]\n",
        "        axs[i].plot(location[ind, 0].flatten(), location[ind, 1].flatten())\n",
        "        axs[i].scatter(location[:, 0].flatten(), location[:, 1].flatten(), s=100)\n",
        "        for j in np.arange(0, location.shape[0]):\n",
        "            axs[i].annotate(j, (location[:, 0].flatten()[j], location[:, 1].flatten()[j]))\n",
        "        axs[i].set_title(\"k-%d\"%(i+1))\n",
        "        axs[i].set_xlim([0, 50])\n",
        "        axs[i].set_ylim([0, 50])\n",
        "    \n",
        "\n",
        "\n",
        "\n",
        "def GA(numOfPopulation, numOfCity, generation):\n",
        "    (population, location) = generatePopulation(numOfPopulation, numOfCity)\n",
        "\n",
        "    # create data visualization\n",
        "    fig, ax = plt.subplots()\n",
        "    ax.scatter(location[:, 0].flatten(), location[:, 1].flatten(), s=100)\n",
        "    for i in np.arange(0, numOfCity):\n",
        "        ax.annotate(i, (location[:, 0].flatten()[i], location[:, 1].flatten()[i]))\n",
        "    ax.set_title(\"Koordinat Kota\")\n",
        "    ax.set_xlim([0, 50])\n",
        "    ax.set_ylim([0, 50])\n",
        "    fig.show()\n",
        "\n",
        "    print(\"inisialisai populasi=\\n\", population)\n",
        "    for i in range(generation):\n",
        "        print(\"Generasi -\", i)\n",
        "        nilaiFitness = calculateFitness(population, location)\n",
        "        maxFitness = np.argmax(nilaiFitness) + 1\n",
        "        newInd = selection(nilaiFitness)\n",
        "        print(\"indeks populasi hasil seleksi\",newInd)\n",
        "        population = newP(newInd, population)\n",
        "        print(\"individu hasil seleksi\\n\",population)\n",
        "        population = reverse(population)\n",
        "        print(\"Hasil crossover\\n\",population)\n",
        "        population = mutation(population)\n",
        "        print(\"Hasil mutasi\\n\",population)\n",
        "\n",
        "        create_plot(population, location)\n",
        "        print(\"K -\",maxFitness)"
      ],
      "metadata": {
        "id": "eNuYblscmIQU"
      },
      "execution_count": null,
      "outputs": []
    },
    {
      "cell_type": "code",
      "source": [
        "GA(4, 5, 1)"
      ],
      "metadata": {
        "colab": {
          "base_uri": "https://localhost:8080/",
          "height": 1000
        },
        "id": "IweB0gOvmPRx",
        "outputId": "4f166f4d-da1d-4095-b82e-00920e535450"
      },
      "execution_count": null,
      "outputs": [
        {
          "output_type": "stream",
          "name": "stdout",
          "text": [
            "inisialisai populasi=\n",
            " [[2 3 1 4 0]\n",
            " [3 4 1 2 0]\n",
            " [3 4 1 2 0]\n",
            " [4 2 3 1 0]]\n",
            "Generasi - 0\n",
            "indeks populasi hasil seleksi [3 3 2 3]\n",
            "individu hasil seleksi\n",
            " [[4 2 3 1 0]\n",
            " [4 2 3 1 0]\n",
            " [3 4 1 2 0]\n",
            " [4 2 3 1 0]]\n",
            "Hasil crossover\n",
            " [[2 4 3 1 0]\n",
            " [1 3 2 4 0]\n",
            " [3 1 4 2 0]\n",
            " [4 1 3 2 0]]\n",
            "Hasil mutasi\n",
            " [[2 1 3 4 0]\n",
            " [4 3 2 1 0]\n",
            " [3 0 4 2 1]\n",
            " [4 1 3 0 2]]\n",
            "K - 4\n"
          ]
        },
        {
          "output_type": "display_data",
          "data": {
            "text/plain": [
              "<Figure size 432x288 with 1 Axes>"
            ],
            "image/png": "[encoded data removed]"
          },
          "metadata": {
            "needs_background": "light"
          }
        },
        {
          "output_type": "display_data",
          "data": {
            "text/plain": [
              "<Figure size 432x288 with 1 Axes>"
            ],
            "image/png": "[encoded data removed]"
          },
          "metadata": {}
        },
        {
          "output_type": "display_data",
          "data": {
            "text/plain": [
              "<Figure size 1152x288 with 4 Axes>"
            ],
            "image/png": "[encoded data removed]"
          },
          "metadata": {
            "needs_background": "light"
          }
        }
      ]
    }
  ]
}